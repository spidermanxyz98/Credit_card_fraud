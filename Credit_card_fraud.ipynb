{
 "cells": [
  {
   "cell_type": "code",
   "execution_count": 1,
   "metadata": {
    "collapsed": true
   },
   "outputs": [],
   "source": [
    "import numpy as np\n",
    "import pandas as pd\n",
    "import matplotlib.pyplot as plt\n",
    "import seaborn as sns\n",
    "sns.set()\n",
    "%matplotlib inline\n",
    "import os"
   ]
  },
  {
   "cell_type": "code",
   "execution_count": 2,
   "metadata": {
    "collapsed": true
   },
   "outputs": [],
   "source": [
    "cc = pd.read_csv('cc_info.csv')\n",
    "trans = pd.read_csv('transactions.csv', parse_dates=['date'])"
   ]
  },
  {
   "cell_type": "code",
   "execution_count": 3,
   "metadata": {},
   "outputs": [
    {
     "name": "stdout",
     "output_type": "stream",
     "text": [
      "<class 'pandas.core.frame.DataFrame'>\n",
      "RangeIndex: 294588 entries, 0 to 294587\n",
      "Data columns (total 5 columns):\n",
      "credit_card                  294588 non-null int64\n",
      "date                         294588 non-null datetime64[ns]\n",
      "transaction_dollar_amount    294588 non-null float64\n",
      "Long                         294588 non-null float64\n",
      "Lat                          294588 non-null float64\n",
      "dtypes: datetime64[ns](1), float64(3), int64(1)\n",
      "memory usage: 11.2 MB\n"
     ]
    }
   ],
   "source": [
    "trans.info()"
   ]
  },
  {
   "cell_type": "code",
   "execution_count": 4,
   "metadata": {
    "collapsed": true
   },
   "outputs": [],
   "source": [
    "trans['year'] = trans['date'].transform(lambda x: x.year)\n",
    "trans['month'] = trans['date'].transform(lambda x: x.month)\n",
    "trans['day'] = trans['date'].transform(lambda x: x.day)\n",
    "trans['hour'] = trans['date'].transform(lambda x: x.hour)"
   ]
  },
  {
   "cell_type": "code",
   "execution_count": 5,
   "metadata": {
    "collapsed": true
   },
   "outputs": [],
   "source": [
    "trans_month = trans.groupby(['credit_card', 'month'])['transaction_dollar_amount'].sum().unstack()\n",
    "trans_month = trans_month.fillna(0)\n",
    "trans_month['max_spent'] = trans_month.max(axis=1)\n",
    "trans_month = trans_month.reset_index(level=['credit_card'])\n",
    "trans_join = pd.merge(trans_month, cc, how='left', on='credit_card')"
   ]
  },
  {
   "cell_type": "code",
   "execution_count": 6,
   "metadata": {
    "collapsed": true
   },
   "outputs": [],
   "source": [
    "never_exceed = trans_join[trans_join.max_spent < trans_join.credit_card_limit]['credit_card']"
   ]
  },
  {
   "cell_type": "markdown",
   "metadata": {},
   "source": [
    "# Alert function"
   ]
  },
  {
   "cell_type": "code",
   "execution_count": 7,
   "metadata": {
    "collapsed": true
   },
   "outputs": [],
   "source": [
    "def alert(trans, cc, month, day):\n",
    "    #select transactions that start from the begining of the month to current day\n",
    "    trans_current = trans[(trans.month == month) & (trans.day <= day)]\n",
    "    \n",
    "    #calculate the sum\n",
    "    trans_current = trans_current.groupby('credit_card')['transaction_dollar_amount'].sum().to_frame().reset_index()\n",
    "    #merge with card info to get card_limit\n",
    "    trans_merge = pd.merge(trans_current, cc[['credit_card', 'credit_card_limit']], how = 'left', on ='credit_card')\n",
    "    \n",
    "    #check weather it exceeds the limit\n",
    "    res = trans_merge[trans_merge.transaction_dollar_amount >= trans_merge.credit_card_limit]\n",
    "    \n",
    "    \n",
    "    if res.shape[0] == 0:\n",
    "        return 'No Alert'\n",
    "    else:\n",
    "        return res['credit_card'].to_frame().reset_index()\n",
    "    \n",
    "    "
   ]
  },
  {
   "cell_type": "code",
   "execution_count": 8,
   "metadata": {},
   "outputs": [
    {
     "data": {
      "text/html": [
       "<div>\n",
       "<style scoped>\n",
       "    .dataframe tbody tr th:only-of-type {\n",
       "        vertical-align: middle;\n",
       "    }\n",
       "\n",
       "    .dataframe tbody tr th {\n",
       "        vertical-align: top;\n",
       "    }\n",
       "\n",
       "    .dataframe thead th {\n",
       "        text-align: right;\n",
       "    }\n",
       "</style>\n",
       "<table border=\"1\" class=\"dataframe\">\n",
       "  <thead>\n",
       "    <tr style=\"text-align: right;\">\n",
       "      <th></th>\n",
       "      <th>index</th>\n",
       "      <th>credit_card</th>\n",
       "    </tr>\n",
       "  </thead>\n",
       "  <tbody>\n",
       "    <tr>\n",
       "      <th>0</th>\n",
       "      <td>194</td>\n",
       "      <td>2850146878241916</td>\n",
       "    </tr>\n",
       "    <tr>\n",
       "      <th>1</th>\n",
       "      <td>319</td>\n",
       "      <td>3936887050542904</td>\n",
       "    </tr>\n",
       "    <tr>\n",
       "      <th>2</th>\n",
       "      <td>341</td>\n",
       "      <td>4118286032166087</td>\n",
       "    </tr>\n",
       "    <tr>\n",
       "      <th>3</th>\n",
       "      <td>383</td>\n",
       "      <td>4462290711836916</td>\n",
       "    </tr>\n",
       "    <tr>\n",
       "      <th>4</th>\n",
       "      <td>525</td>\n",
       "      <td>5723635641134781</td>\n",
       "    </tr>\n",
       "    <tr>\n",
       "      <th>5</th>\n",
       "      <td>698</td>\n",
       "      <td>7299183791723634</td>\n",
       "    </tr>\n",
       "    <tr>\n",
       "      <th>6</th>\n",
       "      <td>772</td>\n",
       "      <td>7850942767136368</td>\n",
       "    </tr>\n",
       "    <tr>\n",
       "      <th>7</th>\n",
       "      <td>834</td>\n",
       "      <td>8522875529951473</td>\n",
       "    </tr>\n",
       "    <tr>\n",
       "      <th>8</th>\n",
       "      <td>874</td>\n",
       "      <td>8972201384562696</td>\n",
       "    </tr>\n",
       "  </tbody>\n",
       "</table>\n",
       "</div>"
      ],
      "text/plain": [
       "   index       credit_card\n",
       "0    194  2850146878241916\n",
       "1    319  3936887050542904\n",
       "2    341  4118286032166087\n",
       "3    383  4462290711836916\n",
       "4    525  5723635641134781\n",
       "5    698  7299183791723634\n",
       "6    772  7850942767136368\n",
       "7    834  8522875529951473\n",
       "8    874  8972201384562696"
      ]
     },
     "execution_count": 8,
     "metadata": {},
     "output_type": "execute_result"
    }
   ],
   "source": [
    "alert(trans, cc, 8, 20)"
   ]
  },
  {
   "cell_type": "markdown",
   "metadata": {},
   "source": [
    "# Unsupervised Learning"
   ]
  },
  {
   "cell_type": "code",
   "execution_count": 103,
   "metadata": {
    "collapsed": true
   },
   "outputs": [],
   "source": [
    "whole = pd.merge(trans, cc, on='credit_card', how='left')\n",
    "#names = ['credit_card', 'transaction_dollar_amount', 'Long', 'Lat', 'month', 'day', 'hour']\n",
    "\n",
    "#create transaction amount / credit limit feature\n",
    "whole['limit_percent'] = whole['transaction_dollar_amount'] / whole['credit_card_limit']\n",
    "whole['median_percent'] = whole.groupby('credit_card')['transaction_dollar_amount'].transform(lambda x: x/np.median(x))\n",
    "\n",
    "\n",
    "#normalize Long and Lat by each card's median\n",
    "whole['Long_norm'] = whole.groupby('credit_card')[['Long']].transform(lambda x: np.abs(x - np.median(x)))\n",
    "whole['Lat_norm'] = whole.groupby('credit_card')[['Lat']].transform(lambda x: np.abs(x - np.median(x)))"
   ]
  },
  {
   "cell_type": "code",
   "execution_count": 111,
   "metadata": {},
   "outputs": [],
   "source": [
    "whole['distance'] = np.sqrt(whole.Long_norm**2 + whole.Lat_norm**2)"
   ]
  },
  {
   "cell_type": "code",
   "execution_count": 112,
   "metadata": {},
   "outputs": [
    {
     "data": {
      "text/html": [
       "<div>\n",
       "<style scoped>\n",
       "    .dataframe tbody tr th:only-of-type {\n",
       "        vertical-align: middle;\n",
       "    }\n",
       "\n",
       "    .dataframe tbody tr th {\n",
       "        vertical-align: top;\n",
       "    }\n",
       "\n",
       "    .dataframe thead th {\n",
       "        text-align: right;\n",
       "    }\n",
       "</style>\n",
       "<table border=\"1\" class=\"dataframe\">\n",
       "  <thead>\n",
       "    <tr style=\"text-align: right;\">\n",
       "      <th></th>\n",
       "      <th>credit_card</th>\n",
       "      <th>date</th>\n",
       "      <th>transaction_dollar_amount</th>\n",
       "      <th>Long</th>\n",
       "      <th>Lat</th>\n",
       "      <th>year</th>\n",
       "      <th>month</th>\n",
       "      <th>day</th>\n",
       "      <th>hour</th>\n",
       "      <th>city</th>\n",
       "      <th>state</th>\n",
       "      <th>zipcode</th>\n",
       "      <th>credit_card_limit</th>\n",
       "      <th>limit_percent</th>\n",
       "      <th>median_percent</th>\n",
       "      <th>Long_norm</th>\n",
       "      <th>Lat_norm</th>\n",
       "      <th>distance</th>\n",
       "    </tr>\n",
       "  </thead>\n",
       "  <tbody>\n",
       "    <tr>\n",
       "      <th>0</th>\n",
       "      <td>1003715054175576</td>\n",
       "      <td>2015-09-11 00:32:40</td>\n",
       "      <td>43.78</td>\n",
       "      <td>-80.174132</td>\n",
       "      <td>40.267370</td>\n",
       "      <td>2015</td>\n",
       "      <td>9</td>\n",
       "      <td>11</td>\n",
       "      <td>0</td>\n",
       "      <td>Houston</td>\n",
       "      <td>PA</td>\n",
       "      <td>15342</td>\n",
       "      <td>20000</td>\n",
       "      <td>0.002189</td>\n",
       "      <td>0.467086</td>\n",
       "      <td>0.036149</td>\n",
       "      <td>0.024456</td>\n",
       "      <td>0.043645</td>\n",
       "    </tr>\n",
       "    <tr>\n",
       "      <th>1</th>\n",
       "      <td>1003715054175576</td>\n",
       "      <td>2015-10-24 22:23:08</td>\n",
       "      <td>103.15</td>\n",
       "      <td>-80.194240</td>\n",
       "      <td>40.180114</td>\n",
       "      <td>2015</td>\n",
       "      <td>10</td>\n",
       "      <td>24</td>\n",
       "      <td>22</td>\n",
       "      <td>Houston</td>\n",
       "      <td>PA</td>\n",
       "      <td>15342</td>\n",
       "      <td>20000</td>\n",
       "      <td>0.005158</td>\n",
       "      <td>1.100501</td>\n",
       "      <td>0.016042</td>\n",
       "      <td>0.062801</td>\n",
       "      <td>0.064817</td>\n",
       "    </tr>\n",
       "    <tr>\n",
       "      <th>2</th>\n",
       "      <td>1003715054175576</td>\n",
       "      <td>2015-10-26 18:19:36</td>\n",
       "      <td>48.55</td>\n",
       "      <td>-80.211033</td>\n",
       "      <td>40.313004</td>\n",
       "      <td>2015</td>\n",
       "      <td>10</td>\n",
       "      <td>26</td>\n",
       "      <td>18</td>\n",
       "      <td>Houston</td>\n",
       "      <td>PA</td>\n",
       "      <td>15342</td>\n",
       "      <td>20000</td>\n",
       "      <td>0.002427</td>\n",
       "      <td>0.517977</td>\n",
       "      <td>0.000751</td>\n",
       "      <td>0.070090</td>\n",
       "      <td>0.070094</td>\n",
       "    </tr>\n",
       "    <tr>\n",
       "      <th>3</th>\n",
       "      <td>1003715054175576</td>\n",
       "      <td>2015-10-22 19:41:10</td>\n",
       "      <td>136.18</td>\n",
       "      <td>-80.174138</td>\n",
       "      <td>40.290895</td>\n",
       "      <td>2015</td>\n",
       "      <td>10</td>\n",
       "      <td>22</td>\n",
       "      <td>19</td>\n",
       "      <td>Houston</td>\n",
       "      <td>PA</td>\n",
       "      <td>15342</td>\n",
       "      <td>20000</td>\n",
       "      <td>0.006809</td>\n",
       "      <td>1.452897</td>\n",
       "      <td>0.036143</td>\n",
       "      <td>0.047981</td>\n",
       "      <td>0.060071</td>\n",
       "    </tr>\n",
       "    <tr>\n",
       "      <th>4</th>\n",
       "      <td>1003715054175576</td>\n",
       "      <td>2015-10-26 20:08:22</td>\n",
       "      <td>71.82</td>\n",
       "      <td>-80.238720</td>\n",
       "      <td>40.166719</td>\n",
       "      <td>2015</td>\n",
       "      <td>10</td>\n",
       "      <td>26</td>\n",
       "      <td>20</td>\n",
       "      <td>Houston</td>\n",
       "      <td>PA</td>\n",
       "      <td>15342</td>\n",
       "      <td>20000</td>\n",
       "      <td>0.003591</td>\n",
       "      <td>0.766243</td>\n",
       "      <td>0.028438</td>\n",
       "      <td>0.076195</td>\n",
       "      <td>0.081329</td>\n",
       "    </tr>\n",
       "  </tbody>\n",
       "</table>\n",
       "</div>"
      ],
      "text/plain": [
       "        credit_card                date  transaction_dollar_amount       Long  \\\n",
       "0  1003715054175576 2015-09-11 00:32:40                      43.78 -80.174132   \n",
       "1  1003715054175576 2015-10-24 22:23:08                     103.15 -80.194240   \n",
       "2  1003715054175576 2015-10-26 18:19:36                      48.55 -80.211033   \n",
       "3  1003715054175576 2015-10-22 19:41:10                     136.18 -80.174138   \n",
       "4  1003715054175576 2015-10-26 20:08:22                      71.82 -80.238720   \n",
       "\n",
       "         Lat  year  month  day  hour     city state  zipcode  \\\n",
       "0  40.267370  2015      9   11     0  Houston    PA    15342   \n",
       "1  40.180114  2015     10   24    22  Houston    PA    15342   \n",
       "2  40.313004  2015     10   26    18  Houston    PA    15342   \n",
       "3  40.290895  2015     10   22    19  Houston    PA    15342   \n",
       "4  40.166719  2015     10   26    20  Houston    PA    15342   \n",
       "\n",
       "   credit_card_limit  limit_percent  median_percent  Long_norm  Lat_norm  \\\n",
       "0              20000       0.002189        0.467086   0.036149  0.024456   \n",
       "1              20000       0.005158        1.100501   0.016042  0.062801   \n",
       "2              20000       0.002427        0.517977   0.000751  0.070090   \n",
       "3              20000       0.006809        1.452897   0.036143  0.047981   \n",
       "4              20000       0.003591        0.766243   0.028438  0.076195   \n",
       "\n",
       "   distance  \n",
       "0  0.043645  \n",
       "1  0.064817  \n",
       "2  0.070094  \n",
       "3  0.060071  \n",
       "4  0.081329  "
      ]
     },
     "execution_count": 112,
     "metadata": {},
     "output_type": "execute_result"
    }
   ],
   "source": [
    "whole.head()"
   ]
  },
  {
   "cell_type": "code",
   "execution_count": 113,
   "metadata": {},
   "outputs": [
    {
     "data": {
      "text/html": [
       "<div>\n",
       "<style scoped>\n",
       "    .dataframe tbody tr th:only-of-type {\n",
       "        vertical-align: middle;\n",
       "    }\n",
       "\n",
       "    .dataframe tbody tr th {\n",
       "        vertical-align: top;\n",
       "    }\n",
       "\n",
       "    .dataframe thead th {\n",
       "        text-align: right;\n",
       "    }\n",
       "</style>\n",
       "<table border=\"1\" class=\"dataframe\">\n",
       "  <thead>\n",
       "    <tr style=\"text-align: right;\">\n",
       "      <th></th>\n",
       "      <th>median_percent</th>\n",
       "      <th>distance</th>\n",
       "    </tr>\n",
       "  </thead>\n",
       "  <tbody>\n",
       "    <tr>\n",
       "      <th>count</th>\n",
       "      <td>2.945880e+05</td>\n",
       "      <td>2.945880e+05</td>\n",
       "    </tr>\n",
       "    <tr>\n",
       "      <th>mean</th>\n",
       "      <td>-3.754160e-16</td>\n",
       "      <td>-3.473933e-15</td>\n",
       "    </tr>\n",
       "    <tr>\n",
       "      <th>std</th>\n",
       "      <td>1.000000e+00</td>\n",
       "      <td>1.000000e+00</td>\n",
       "    </tr>\n",
       "    <tr>\n",
       "      <th>min</th>\n",
       "      <td>-4.219491e-01</td>\n",
       "      <td>-1.150026e-01</td>\n",
       "    </tr>\n",
       "    <tr>\n",
       "      <th>25%</th>\n",
       "      <td>-2.230351e-01</td>\n",
       "      <td>-1.124090e-01</td>\n",
       "    </tr>\n",
       "    <tr>\n",
       "      <th>50%</th>\n",
       "      <td>-1.095584e-01</td>\n",
       "      <td>-1.113338e-01</td>\n",
       "    </tr>\n",
       "    <tr>\n",
       "      <th>75%</th>\n",
       "      <td>1.618741e-02</td>\n",
       "      <td>-1.105002e-01</td>\n",
       "    </tr>\n",
       "    <tr>\n",
       "      <th>max</th>\n",
       "      <td>4.067566e+01</td>\n",
       "      <td>1.938869e+01</td>\n",
       "    </tr>\n",
       "  </tbody>\n",
       "</table>\n",
       "</div>"
      ],
      "text/plain": [
       "       median_percent      distance\n",
       "count    2.945880e+05  2.945880e+05\n",
       "mean    -3.754160e-16 -3.473933e-15\n",
       "std      1.000000e+00  1.000000e+00\n",
       "min     -4.219491e-01 -1.150026e-01\n",
       "25%     -2.230351e-01 -1.124090e-01\n",
       "50%     -1.095584e-01 -1.113338e-01\n",
       "75%      1.618741e-02 -1.105002e-01\n",
       "max      4.067566e+01  1.938869e+01"
      ]
     },
     "execution_count": 113,
     "metadata": {},
     "output_type": "execute_result"
    }
   ],
   "source": [
    "col_names = ['median_percent', 'distance']\n",
    "\n",
    "train = whole[col_names]\n",
    "train = train.transform(lambda x: (x-x.mean())/x.std())\n",
    "\n",
    "train.describe()"
   ]
  },
  {
   "cell_type": "code",
   "execution_count": 114,
   "metadata": {},
   "outputs": [
    {
     "data": {
      "text/plain": [
       "<matplotlib.axes._subplots.AxesSubplot at 0x24f0baaa6d8>"
      ]
     },
     "execution_count": 114,
     "metadata": {},
     "output_type": "execute_result"
    },
    {
     "data": {
      "image/png": "[encoded data removed]",
      "text/plain": [
       "<matplotlib.figure.Figure at 0x24f06f00d30>"
      ]
     },
     "metadata": {},
     "output_type": "display_data"
    }
   ],
   "source": [
    "train.plot.hist(stacked=True, alpha=0.5)\n"
   ]
  },
  {
   "cell_type": "code",
   "execution_count": 115,
   "metadata": {},
   "outputs": [
    {
     "data": {
      "text/plain": [
       "(-1, 1)"
      ]
     },
     "execution_count": 115,
     "metadata": {},
     "output_type": "execute_result"
    },
    {
     "data": {
      "image/png": "[encoded data removed]",
      "text/plain": [
       "<matplotlib.figure.Figure at 0x24f07164160>"
      ]
     },
     "metadata": {},
     "output_type": "display_data"
    }
   ],
   "source": [
    "train.plot.box(figsize=(10, 8))\n",
    "plt.ylim([-1, 1])"
   ]
  },
  {
   "cell_type": "markdown",
   "metadata": {},
   "source": [
    "# train"
   ]
  },
  {
   "cell_type": "code",
   "execution_count": 116,
   "metadata": {
    "collapsed": true
   },
   "outputs": [],
   "source": [
    "from sklearn.cluster import KMeans\n",
    "from sklearn.mixture import GaussianMixture, BayesianGaussianMixture\n",
    "random_state = 7"
   ]
  },
  {
   "cell_type": "code",
   "execution_count": 117,
   "metadata": {},
   "outputs": [
    {
     "name": "stdout",
     "output_type": "stream",
     "text": [
      "number of potential fraud predicted by Kmeans: 4049\n"
     ]
    }
   ],
   "source": [
    "n_train = train.shape[0]\n",
    "km = KMeans(n_clusters=2)\n",
    "km_pre = km.fit_predict(train)\n",
    "\n",
    "print('number of potential fraud predicted by Kmeans: {}'.format(min(km_pre.sum(), n_train - km_pre.sum())))"
   ]
  },
  {
   "cell_type": "code",
   "execution_count": 118,
   "metadata": {},
   "outputs": [
    {
     "name": "stdout",
     "output_type": "stream",
     "text": [
      "covariance type: full\n",
      "number of potential fraud predicted by Gaussin Mixture: 4208\n",
      "covariance type: tied\n",
      "number of potential fraud predicted by Gaussin Mixture: 4032\n",
      "covariance type: diag\n",
      "number of potential fraud predicted by Gaussin Mixture: 4208\n",
      "covariance type: spherical\n",
      "number of potential fraud predicted by Gaussin Mixture: 10052\n"
     ]
    }
   ],
   "source": [
    "cov_type = ['full', 'tied', 'diag', 'spherical']\n",
    "\n",
    "gm_pre_res = []\n",
    "for cov in cov_type:\n",
    "    gm = GaussianMixture(n_components=2, covariance_type=cov, random_state=random_state)\n",
    "    gm.fit(train)\n",
    "    gm_pre = gm.predict(train)\n",
    "    \n",
    "    gm_pre_res.append(gm_pre)\n",
    "    print('covariance type: {}'.format(cov))\n",
    "    print('number of potential fraud predicted by Gaussin Mixture: {}'.format(min(gm_pre.sum(), n_train - gm_pre.sum())))"
   ]
  },
  {
   "cell_type": "code",
   "execution_count": 119,
   "metadata": {},
   "outputs": [
    {
     "name": "stdout",
     "output_type": "stream",
     "text": [
      "covariance type: full\n",
      "number of potential fraud predicted by Bayesian Gaussin Mixture: 4208\n",
      "covariance type: tied\n",
      "number of potential fraud predicted by Bayesian Gaussin Mixture: 4032\n",
      "covariance type: diag\n",
      "number of potential fraud predicted by Bayesian Gaussin Mixture: 4208\n",
      "covariance type: spherical\n",
      "number of potential fraud predicted by Bayesian Gaussin Mixture: 10053\n"
     ]
    }
   ],
   "source": [
    "cov_type = ['full', 'tied', 'diag', 'spherical']\n",
    "\n",
    "bgm_pre_res = []\n",
    "for cov in cov_type:\n",
    "    bgm = BayesianGaussianMixture(n_components=2, covariance_type=cov, random_state=random_state)\n",
    "    bgm.fit(train)\n",
    "    bgm_pre = bgm.predict(train)\n",
    "    bgm_pre_res.append(bgm_pre)\n",
    "    print('covariance type: {}'.format(cov))\n",
    "    print('number of potential fraud predicted by Bayesian Gaussin Mixture: {}'.format(min(bgm_pre.sum(), n_train - bgm_pre.sum())))"
   ]
  },
  {
   "cell_type": "code",
   "execution_count": 120,
   "metadata": {},
   "outputs": [
    {
     "name": "stdout",
     "output_type": "stream",
     "text": [
      "number of overlaps between kmeans and Gaussian mixture prediction 4032\n"
     ]
    }
   ],
   "source": [
    "res = train\n",
    "res['km_pre'] = km_pre\n",
    "res['gm_pre_tied'] = gm_pre_res[1]\n",
    "\n",
    "overlap = sum((res.km_pre == 1) & (res.gm_pre_tied == 1))\n",
    "print('number of overlaps between kmeans and Gaussian mixture prediction {}'.format(overlap))"
   ]
  },
  {
   "cell_type": "code",
   "execution_count": 142,
   "metadata": {},
   "outputs": [],
   "source": [
    "#There is no need to sample points for plotting. seaborn can do the job pretty fast\n",
    "# n_samples = 500\n",
    "\n",
    "# pos_index = res[res.km_pre == 1].index\n",
    "# pos_index_sample = np.random.choice(pos_index, size = n_samples, replace=False)\n",
    "# pos_record = res.iloc[pos_index_sample]\n",
    "# print('positive recorde shape: {}'.format(pos_record.shape))\n",
    "\n",
    "# neg_index = res[res.km_pre == 0].index\n",
    "# neg_index_sample = np.random.choice(neg_index, size = n_samples, replace=False)\n",
    "# neg_record = res.iloc[neg_index_sample]\n",
    "# print('negative recorde shape: {}'.format(neg_record.shape))\n",
    "\n",
    "# samples = pd.concat([pos_record, neg_record], axis = 0)"
   ]
  },
  {
   "cell_type": "code",
   "execution_count": 146,
   "metadata": {},
   "outputs": [
    {
     "data": {
      "text/plain": [
       "<matplotlib.axes._subplots.AxesSubplot at 0x24f0ae463c8>"
      ]
     },
     "execution_count": 146,
     "metadata": {},
     "output_type": "execute_result"
    },
    {
     "data": {
      "image/png": "[encoded data removed]",
      "text/plain": [
       "<matplotlib.figure.Figure at 0x24f0ae4d9b0>"
      ]
     },
     "metadata": {},
     "output_type": "display_data"
    }
   ],
   "source": [
    "sns.lmplot('median_percent', 'distance', data = res, fit_reg=False, hue='km_pre',\n",
    "          markers=['o', 'x']);"
   ]
  },
  {
   "cell_type": "code",
   "execution_count": 149,
   "metadata": {},
   "outputs": [
    {
     "data": {
      "text/plain": [
       "<seaborn.axisgrid.JointGrid at 0x24f0adff0b8>"
      ]
     },
     "execution_count": 149,
     "metadata": {},
     "output_type": "execute_result"
    },
    {
     "data": {
      "image/png": "[encoded data removed]",
      "text/plain": [
       "<matplotlib.figure.Figure at 0x24f0adff2b0>"
      ]
     },
     "metadata": {},
     "output_type": "display_data"
    }
   ],
   "source": [
    "sns.jointplot(x='median_percent', y = 'distance', data = res)"
   ]
  },
  {
   "cell_type": "code",
   "execution_count": 145,
   "metadata": {},
   "outputs": [
    {
     "data": {
      "text/plain": [
       "<seaborn.axisgrid.FacetGrid at 0x24f00315c88>"
      ]
     },
     "execution_count": 145,
     "metadata": {},
     "output_type": "execute_result"
    },
    {
     "data": {
      "image/png": "[encoded data removed]",
      "text/plain": [
       "<matplotlib.figure.Figure at 0x24f003159e8>"
      ]
     },
     "metadata": {},
     "output_type": "display_data"
    }
   ],
   "source": [
    "sns.lmplot('median_percent', 'distance', data = res, fit_reg=False, hue='gm_pre_tied',\n",
    "          markers=['o', 'x']);"
   ]
  },
  {
   "cell_type": "code",
   "execution_count": 150,
   "metadata": {},
   "outputs": [
    {
     "data": {
      "text/html": [
       "<div>\n",
       "<style scoped>\n",
       "    .dataframe tbody tr th:only-of-type {\n",
       "        vertical-align: middle;\n",
       "    }\n",
       "\n",
       "    .dataframe tbody tr th {\n",
       "        vertical-align: top;\n",
       "    }\n",
       "\n",
       "    .dataframe thead th {\n",
       "        text-align: right;\n",
       "    }\n",
       "</style>\n",
       "<table border=\"1\" class=\"dataframe\">\n",
       "  <thead>\n",
       "    <tr style=\"text-align: right;\">\n",
       "      <th></th>\n",
       "      <th>median_percent</th>\n",
       "      <th>distance</th>\n",
       "      <th>km_pre</th>\n",
       "      <th>gm_pre_tied</th>\n",
       "    </tr>\n",
       "  </thead>\n",
       "  <tbody>\n",
       "    <tr>\n",
       "      <th>count</th>\n",
       "      <td>2.945880e+05</td>\n",
       "      <td>2.945880e+05</td>\n",
       "      <td>294588.000000</td>\n",
       "      <td>294588.000000</td>\n",
       "    </tr>\n",
       "    <tr>\n",
       "      <th>mean</th>\n",
       "      <td>-3.754160e-16</td>\n",
       "      <td>-3.473933e-15</td>\n",
       "      <td>0.013745</td>\n",
       "      <td>0.013687</td>\n",
       "    </tr>\n",
       "    <tr>\n",
       "      <th>std</th>\n",
       "      <td>1.000000e+00</td>\n",
       "      <td>1.000000e+00</td>\n",
       "      <td>0.116429</td>\n",
       "      <td>0.116188</td>\n",
       "    </tr>\n",
       "    <tr>\n",
       "      <th>min</th>\n",
       "      <td>-4.219491e-01</td>\n",
       "      <td>-1.150026e-01</td>\n",
       "      <td>0.000000</td>\n",
       "      <td>0.000000</td>\n",
       "    </tr>\n",
       "    <tr>\n",
       "      <th>25%</th>\n",
       "      <td>-2.230351e-01</td>\n",
       "      <td>-1.124090e-01</td>\n",
       "      <td>0.000000</td>\n",
       "      <td>0.000000</td>\n",
       "    </tr>\n",
       "    <tr>\n",
       "      <th>50%</th>\n",
       "      <td>-1.095584e-01</td>\n",
       "      <td>-1.113338e-01</td>\n",
       "      <td>0.000000</td>\n",
       "      <td>0.000000</td>\n",
       "    </tr>\n",
       "    <tr>\n",
       "      <th>75%</th>\n",
       "      <td>1.618741e-02</td>\n",
       "      <td>-1.105002e-01</td>\n",
       "      <td>0.000000</td>\n",
       "      <td>0.000000</td>\n",
       "    </tr>\n",
       "    <tr>\n",
       "      <th>max</th>\n",
       "      <td>4.067566e+01</td>\n",
       "      <td>1.938869e+01</td>\n",
       "      <td>1.000000</td>\n",
       "      <td>1.000000</td>\n",
       "    </tr>\n",
       "  </tbody>\n",
       "</table>\n",
       "</div>"
      ],
      "text/plain": [
       "       median_percent      distance         km_pre    gm_pre_tied\n",
       "count    2.945880e+05  2.945880e+05  294588.000000  294588.000000\n",
       "mean    -3.754160e-16 -3.473933e-15       0.013745       0.013687\n",
       "std      1.000000e+00  1.000000e+00       0.116429       0.116188\n",
       "min     -4.219491e-01 -1.150026e-01       0.000000       0.000000\n",
       "25%     -2.230351e-01 -1.124090e-01       0.000000       0.000000\n",
       "50%     -1.095584e-01 -1.113338e-01       0.000000       0.000000\n",
       "75%      1.618741e-02 -1.105002e-01       0.000000       0.000000\n",
       "max      4.067566e+01  1.938869e+01       1.000000       1.000000"
      ]
     },
     "execution_count": 150,
     "metadata": {},
     "output_type": "execute_result"
    }
   ],
   "source": [
    "res.describe()"
   ]
  },
  {
   "cell_type": "code",
   "execution_count": null,
   "metadata": {
    "collapsed": true
   },
   "outputs": [],
   "source": []
  }
 ],
 "metadata": {
  "kernelspec": {
   "display_name": "Python 3",
   "language": "python",
   "name": "python3"
  },
  "language_info": {
   "codemirror_mode": {
    "name": "ipython",
    "version": 3
   },
   "file_extension": ".py",
   "mimetype": "text/x-python",
   "name": "python",
   "nbconvert_exporter": "python",
   "pygments_lexer": "ipython3",
   "version": "3.5.2"
  }
 },
 "nbformat": 4,
 "nbformat_minor": 1
}
